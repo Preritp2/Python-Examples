{
  "nbformat": 4,
  "nbformat_minor": 0,
  "metadata": {
    "colab": {
      "provenance": [],
      "authorship_tag": "ABX9TyPM2D+nvqE5Kf2fMbFrWkxI",
      "include_colab_link": true
    },
    "kernelspec": {
      "name": "python3",
      "display_name": "Python 3"
    },
    "language_info": {
      "name": "python"
    }
  },
  "cells": [
    {
      "cell_type": "markdown",
      "metadata": {
        "id": "view-in-github",
        "colab_type": "text"
      },
      "source": [
        "<a href=\"https://colab.research.google.com/github/Preritp2/Python-Examples/blob/main/learning_python.ipynb\" target=\"_parent\"><img src=\"https://colab.research.google.com/assets/colab-badge.svg\" alt=\"Open In Colab\"/></a>"
      ]
    },
    {
      "cell_type": "markdown",
      "source": [
        "#**Python Examples FROM PROGRAMIZ**"
      ],
      "metadata": {
        "id": "YRsP8d8cmvLz"
      }
    },
    {
      "cell_type": "markdown",
      "source": [
        "#1.Python Program to Print Hello world!"
      ],
      "metadata": {
        "id": "2lFY1OyMm86G"
      }
    },
    {
      "cell_type": "code",
      "execution_count": 2,
      "metadata": {
        "colab": {
          "base_uri": "https://localhost:8080/"
        },
        "id": "BnEIhtyUmoxf",
        "outputId": "e4217e62-441f-432e-930d-fced3bf70be6"
      },
      "outputs": [
        {
          "output_type": "stream",
          "name": "stdout",
          "text": [
            "Hello world!\n"
          ]
        }
      ],
      "source": [
        "print(\"Hello world!\")"
      ]
    },
    {
      "cell_type": "markdown",
      "source": [
        "#2.Python Program to Add Two Numbers"
      ],
      "metadata": {
        "id": "OASNfnUknaTM"
      }
    },
    {
      "cell_type": "code",
      "source": [
        "# This program adds two numbers\n",
        "\n",
        "num1 = 1.5\n",
        "num2 = 6.3\n",
        "\n",
        "# Add two numbers\n",
        "sum = num1 + num2\n",
        "\n",
        "# Display the sum\n",
        "print('The sum of {0} and {1} is {2}'.format(num1, num2, sum))\n",
        "#or by other hand\n",
        "# Store input numbers\n",
        "a= input('Enter first number: ')\n",
        "b = input('Enter second number: ')\n",
        "\n",
        "# Add two numbers\n",
        "sum = float(a) + float(b) # or we can change the datatype aswell if we want\n",
        "\n",
        "# Display the sum\n",
        "print('The sum of {0} and {1} is {2}'.format(a, b, sum))"
      ],
      "metadata": {
        "colab": {
          "base_uri": "https://localhost:8080/"
        },
        "id": "ZMVgLtdynMDW",
        "outputId": "edc62cb8-2b09-43f9-c5cb-e2b7e0f6d2b6"
      },
      "execution_count": 4,
      "outputs": [
        {
          "output_type": "stream",
          "name": "stdout",
          "text": [
            "The sum of 1.5 and 6.3 is 7.8\n",
            "Enter first number: 2.6\n",
            "Enter second number: 6.7\n",
            "The sum of 2.6 and 6.7 is 9.3\n"
          ]
        }
      ]
    },
    {
      "cell_type": "markdown",
      "source": [
        "#3.Python Program to Find the Square Root"
      ],
      "metadata": {
        "id": "67x5n-Lrnsep"
      }
    },
    {
      "cell_type": "code",
      "source": [
        "import math \n",
        "  \n",
        "# print the square root of  0 \n",
        "print(math.sqrt(0)) \n",
        "  \n",
        "# print the square root of 4\n",
        "print(math.sqrt(4)) \n",
        "  \n",
        "# print the square root of 3.5\n",
        "print(math.sqrt(3.5)) "
      ],
      "metadata": {
        "colab": {
          "base_uri": "https://localhost:8080/"
        },
        "id": "zd7GATa8nrM2",
        "outputId": "eca7a063-8d13-4f2f-fddb-7913e32e6012"
      },
      "execution_count": 6,
      "outputs": [
        {
          "output_type": "stream",
          "name": "stdout",
          "text": [
            "0.0\n",
            "2.0\n",
            "1.8708286933869707\n"
          ]
        }
      ]
    },
    {
      "cell_type": "markdown",
      "source": [
        "#4.Python Program to Calculate the Area of a Triangle"
      ],
      "metadata": {
        "id": "UTYad7TYqkNd"
      }
    },
    {
      "cell_type": "code",
      "source": [
        "a = 5\n",
        "b = 6\n",
        "c = 7\n",
        "\n",
        "# Uncomment below to take inputs from the user\n",
        "# a = float(input('Enter first side: '))\n",
        "# b = float(input('Enter second side: '))\n",
        "# c = float(input('Enter third side: '))\n",
        "\n",
        "# calculate the semi-perimeter\n",
        "s = (a + b + c) / 2\n",
        "\n",
        "# calculate the area\n",
        "area = (s*(s-a)*(s-b)*(s-c)) ** 0.5\n",
        "print(area)"
      ],
      "metadata": {
        "colab": {
          "base_uri": "https://localhost:8080/"
        },
        "id": "yd9YtyCAqp2r",
        "outputId": "e3055b65-d6ef-495d-f92f-9f734aee7ff8"
      },
      "execution_count": 5,
      "outputs": [
        {
          "output_type": "stream",
          "name": "stdout",
          "text": [
            "14.696938456699069\n"
          ]
        }
      ]
    },
    {
      "cell_type": "markdown",
      "source": [
        "#5.Python Program to Solve Quadratic Equation"
      ],
      "metadata": {
        "id": "0OYKostbrmwK"
      }
    },
    {
      "cell_type": "code",
      "source": [
        "# import complex math module\n",
        "import cmath\n",
        "\n",
        "a = 1\n",
        "b = 5\n",
        "c = 6\n",
        "\n",
        "# calculate the discriminant\n",
        "d = (b**2) - (4*a*c)\n",
        "\n",
        "# find two solutions\n",
        "sol1 = (-b-cmath.sqrt(d))/(2*a)\n",
        "sol2 = (-b+cmath.sqrt(d))/(2*a)\n",
        "print(sol1,sol2)"
      ],
      "metadata": {
        "colab": {
          "base_uri": "https://localhost:8080/"
        },
        "id": "sa30DCxXrd8C",
        "outputId": "a647ca82-9ebe-4c73-f579-2759bfafc23a"
      },
      "execution_count": 8,
      "outputs": [
        {
          "output_type": "stream",
          "name": "stdout",
          "text": [
            "(-3+0j) (-2+0j)\n"
          ]
        }
      ]
    },
    {
      "cell_type": "markdown",
      "source": [
        "#6.Python Program to Swap Two Variables"
      ],
      "metadata": {
        "id": "mVYTiZvhstqP"
      }
    },
    {
      "cell_type": "code",
      "source": [
        "# Python program to swap two variables\n",
        "\n",
        "x = 5\n",
        "y = 10\n",
        "\n",
        "# To take inputs from the user\n",
        "#x = input('Enter value of x: ')\n",
        "#y = input('Enter value of y: ')\n",
        "\n",
        "# create a temporary variable and swap the values\n",
        "temp = x\n",
        "x = y\n",
        "y = temp\n",
        "\n",
        "print('The value of x after swapping: {}'.format(x))\n",
        "print('The value of y after swapping: {}'.format(y))"
      ],
      "metadata": {
        "colab": {
          "base_uri": "https://localhost:8080/"
        },
        "id": "a-yVnvUor_gc",
        "outputId": "53f12d8b-8afd-4cf3-a1f5-d1b7f7da5349"
      },
      "execution_count": 9,
      "outputs": [
        {
          "output_type": "stream",
          "name": "stdout",
          "text": [
            "The value of x after swapping: 10\n",
            "The value of y after swapping: 5\n"
          ]
        }
      ]
    },
    {
      "cell_type": "code",
      "source": [],
      "metadata": {
        "id": "fYckaWRDtM-v"
      },
      "execution_count": null,
      "outputs": []
    }
  ]
}